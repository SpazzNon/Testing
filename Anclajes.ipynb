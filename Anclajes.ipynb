{
 "cells": [
  {
   "cell_type": "code",
   "execution_count": 2,
   "metadata": {},
   "outputs": [],
   "source": [
    "import handcalcs.render\n",
    "import pandas as pd\n",
    "from math import sqrt, sin, tan, pi,cos\n",
    "import forallpeople\n",
    "forallpeople.environment('pan',top_level=True)\n",
    "from sympy import symbols\n",
    "from sympy.physics.units import degree"
   ]
  },
  {
   "cell_type": "markdown",
   "metadata": {},
   "source": [
    "# Distancias verticales de los anclajes"
   ]
  },
  {
   "cell_type": "code",
   "execution_count": 3,
   "metadata": {},
   "outputs": [],
   "source": [
    "# Definir la lista h\n",
    "h = [2*m, 2.7*m, 3.85*m, 2.8*m, 3.3*m]"
   ]
  },
  {
   "cell_type": "code",
   "execution_count": 4,
   "metadata": {},
   "outputs": [],
   "source": [
    "# Generar variables dinámicas h_i+1 que sean igual a h[i]\n",
    "for i in range(len(h)):\n",
    "    exec(f'h_{i+1} = h[i]')\n"
   ]
  },
  {
   "cell_type": "markdown",
   "metadata": {},
   "source": [
    "Para el cálculo del diagrama de presion lateral, tenemos lo siguiente:"
   ]
  },
  {
   "cell_type": "code",
   "execution_count": 5,
   "metadata": {},
   "outputs": [
    {
     "data": {
      "text/latex": [
       "\\[\n",
       "\\begin{aligned}\n",
       "h_{1} &= 2.000\\ \\mathrm{m} \\; \n",
       " &h_{2} &= 2.700\\ \\mathrm{m} \\; \n",
       " &h_{3} &= 3.850\\ \\mathrm{m} \\; \n",
       "\\\\[10pt]\n",
       " h_{4} &= 2.800\\ \\mathrm{m} \\; \n",
       " &h_{5} &= 3.300\\ \\mathrm{m} \\; \n",
       " &h_{6} &= 2.750\\ \\mathrm{m} \\; \n",
       "\\\\[10pt]\n",
       "\\end{aligned}\n",
       "\\]"
      ],
      "text/plain": [
       "<IPython.core.display.Latex object>"
      ]
     },
     "metadata": {},
     "output_type": "display_data"
    }
   ],
   "source": [
    "%%render\n",
    "# Parameters\n",
    "h_1=2*m\n",
    "h_2=2.7*m\n",
    "h_3=3.85*m\n",
    "h_4=2.80*m\n",
    "h_5=3.30*m\n",
    "h_6=2.75*m\n"
   ]
  },
  {
   "cell_type": "code",
   "execution_count": 6,
   "metadata": {},
   "outputs": [
    {
     "data": {
      "text/latex": [
       "\\[\n",
       "\\begin{aligned}\n",
       "H &= h_{1} + h_{2} + h_{3} + h_{4} + h_{5} + h_{6} \\\\&= 2.000\\ \\mathrm{m} + 2.700\\ \\mathrm{m} + 3.850\\ \\mathrm{m} + 2.800\\ \\mathrm{m} + 3.300\\ \\mathrm{m} + 2.750\\ \\mathrm{m} \\\\&= 17.400\\ \\mathrm{m}  \\\\[10pt]\n",
       "\\end{aligned}\n",
       "\\]"
      ],
      "text/plain": [
       "<IPython.core.display.Latex object>"
      ]
     },
     "metadata": {},
     "output_type": "display_data"
    }
   ],
   "source": [
    "%%render\n",
    "# Long\n",
    "H=h_1 +h_2+h_3+h_4+h_5+h_6"
   ]
  },
  {
   "cell_type": "markdown",
   "metadata": {},
   "source": [
    "# Presiones laterales por el suelo y sobrecargas"
   ]
  },
  {
   "cell_type": "markdown",
   "metadata": {},
   "source": [
    "Tenemos un peso específico del suelo ($\\gamma$) y el ángulo de fricción interna ($\\phi$) "
   ]
  },
  {
   "cell_type": "code",
   "execution_count": 7,
   "metadata": {},
   "outputs": [
    {
     "data": {
      "text/latex": [
       "\\[\n",
       "\\begin{aligned}\n",
       "\\gamma &= 20.594\\ \\mathrm{kN/m³} \\; \n",
       " &\\phi &= 34 ^\\circ \\;\n",
       "\\end{aligned}\n",
       "\\]"
      ],
      "text/plain": [
       "<IPython.core.display.Latex object>"
      ]
     },
     "metadata": {},
     "output_type": "display_data"
    }
   ],
   "source": [
    "%%render \n",
    "# Parameters\n",
    "gamma=2100*kgf/m**3\n",
    "phi=34*degree"
   ]
  },
  {
   "cell_type": "markdown",
   "metadata": {},
   "source": [
    "donde, el coeficiente de empuje activo \"Ka\", se calcula mediante:"
   ]
  },
  {
   "cell_type": "markdown",
   "metadata": {},
   "source": [
    "$$Ka=\\tan(45°-\\frac{\\phi}{2})^{2}$$"
   ]
  },
  {
   "cell_type": "code",
   "execution_count": 8,
   "metadata": {},
   "outputs": [],
   "source": [
    "#from sympy import tan\n",
    "#alpha_0=45*degree\n"
   ]
  },
  {
   "cell_type": "code",
   "execution_count": 9,
   "metadata": {},
   "outputs": [],
   "source": [
    "#%%render\n",
    "\n",
    "#Ka= tan(alpha_0-phi/2)**2"
   ]
  },
  {
   "cell_type": "code",
   "execution_count": 10,
   "metadata": {},
   "outputs": [],
   "source": [
    "phi=phi/degree\n",
    "from math import sqrt, sin, tan, pi\n",
    "b=5\n",
    "x=3\n"
   ]
  },
  {
   "cell_type": "code",
   "execution_count": 11,
   "metadata": {},
   "outputs": [
    {
     "data": {
      "text/latex": [
       "\\[\n",
       "\\begin{aligned}\n",
       "a &= b + x  = 5 + 3 &= 8  \n",
       "\\end{aligned}\n",
       "\\]"
      ],
      "text/plain": [
       "<IPython.core.display.Latex object>"
      ]
     },
     "metadata": {},
     "output_type": "display_data"
    }
   ],
   "source": [
    "%%render\n",
    "a= b+ x"
   ]
  },
  {
   "cell_type": "code",
   "execution_count": 12,
   "metadata": {},
   "outputs": [
    {
     "data": {
      "text/latex": [
       "\\[\n",
       "\\begin{aligned}\n",
       "\\mathrm{Ka} &= 0.283 \\; \n",
       "\\end{aligned}\n",
       "\\]"
      ],
      "text/plain": [
       "<IPython.core.display.Latex object>"
      ]
     },
     "metadata": {},
     "output_type": "display_data"
    }
   ],
   "source": [
    "%%render\n",
    "\n",
    "Ka=tan(45/180*pi-phi/180*pi/2)**2\n"
   ]
  },
  {
   "cell_type": "markdown",
   "metadata": {},
   "source": [
    "Presión lateral debido al peso propio del suelo"
   ]
  },
  {
   "cell_type": "code",
   "execution_count": 13,
   "metadata": {},
   "outputs": [
    {
     "data": {
      "text/latex": [
       "\\[\n",
       "\\begin{aligned}\n",
       "\\mathrm{Pe} &= \\frac{ 0.65 \\cdot \\mathrm{Ka} \\cdot \\gamma \\cdot \\left( H \\right) ^{ 2 } }{ H - \\frac{ h_{1} }{ 3 } - \\frac{ h_{6} }{ 3 } }  = \\frac{ 0.65 \\cdot 0.283 \\cdot 20.594\\ \\mathrm{kN/m³} \\cdot \\left( 17.400\\ \\mathrm{m} \\right) ^{ 2 } }{ 17.400\\ \\mathrm{m} - \\frac{ 2.000\\ \\mathrm{m} }{ 3 } - \\frac{ 2.750\\ \\mathrm{m} }{ 3 } } &= 72.441\\ \\mathrm{kPa}  \n",
       "\\end{aligned}\n",
       "\\]"
      ],
      "text/plain": [
       "<IPython.core.display.Latex object>"
      ]
     },
     "metadata": {},
     "output_type": "display_data"
    }
   ],
   "source": [
    "%%render\n",
    "Pe= (0.65*Ka*gamma*H**2)/(H-h_1/3-h_6/3)"
   ]
  },
  {
   "cell_type": "markdown",
   "metadata": {},
   "source": [
    "Presión lateral del suelo debido a una sobrecarga "
   ]
  },
  {
   "cell_type": "code",
   "execution_count": 14,
   "metadata": {},
   "outputs": [
    {
     "data": {
      "text/latex": [
       "\\[\n",
       "\\begin{aligned}\n",
       "q_{s} &= 20.000\\ \\mathrm{kPa} \\; \\;\\textrm{(Vivienda de dos pisos)}\n",
       "\\end{aligned}\n",
       "\\]"
      ],
      "text/plain": [
       "<IPython.core.display.Latex object>"
      ]
     },
     "metadata": {},
     "output_type": "display_data"
    }
   ],
   "source": [
    "%%render\n",
    "q_s=20*kN/m**2 #Vivienda de dos pisos"
   ]
  },
  {
   "cell_type": "code",
   "execution_count": 15,
   "metadata": {},
   "outputs": [
    {
     "data": {
      "text/latex": [
       "\\[\n",
       "\\begin{aligned}\n",
       "P_{s} &= \\mathrm{Ka} \\cdot q_{s}  = 0.283 \\cdot 20.000\\ \\mathrm{kPa} &= 5.654\\ \\mathrm{kPa}  \n",
       "\\end{aligned}\n",
       "\\]"
      ],
      "text/plain": [
       "<IPython.core.display.Latex object>"
      ]
     },
     "metadata": {},
     "output_type": "display_data"
    }
   ],
   "source": [
    "%%render\n",
    "P_s= Ka*q_s"
   ]
  },
  {
   "cell_type": "markdown",
   "metadata": {},
   "source": [
    "# Cargas de Anclaje Horizontal, Momento Máximo de Flexión de Muro y Fuerza de Reacción:\n",
    "Las cargas de anclaje horizontales se calculan utilizando el método de área afluente, tal\n",
    "como se muestra:"
   ]
  },
  {
   "cell_type": "code",
   "execution_count": 16,
   "metadata": {},
   "outputs": [
    {
     "data": {
      "text/latex": [
       "\\[\n",
       "\\begin{aligned}\n",
       "T_{1} &= \\left( 2 \\cdot \\frac{ h_{1} }{ 3 } + \\frac{ h_{2} }{ 2 } \\right) \\cdot \\mathrm{Pe} + \\left( h_{1} + \\frac{ h_{2} }{ 2 } \\right) \\cdot P_{s} \\\\&= \\left( 2 \\cdot \\frac{ 2.000\\ \\mathrm{m} }{ 3 } + \\frac{ 2.700\\ \\mathrm{m} }{ 2 } \\right) \\cdot 72.441\\ \\mathrm{kPa} + \\left( 2.000\\ \\mathrm{m} + \\frac{ 2.700\\ \\mathrm{m} }{ 2 } \\right) \\cdot 5.654\\ \\mathrm{kPa} \\\\&= 213.326\\ \\mathrm{kN/m}  \\\\[10pt]\n",
       "\\\\[10pt]\n",
       "T_{2} &= \\left( \\frac{ h_{2} }{ 2 } + \\frac{ h_{3} }{ 2 } \\right) \\cdot \\mathrm{Pe} + \\left( \\frac{ h_{2} }{ 2 } + \\frac{ h_{3} }{ 2 } \\right) \\cdot P_{s} \\\\&= \\left( \\frac{ 2.700\\ \\mathrm{m} }{ 2 } + \\frac{ 3.850\\ \\mathrm{m} }{ 2 } \\right) \\cdot 72.441\\ \\mathrm{kPa} + \\left( \\frac{ 2.700\\ \\mathrm{m} }{ 2 } + \\frac{ 3.850\\ \\mathrm{m} }{ 2 } \\right) \\cdot 5.654\\ \\mathrm{kPa} \\\\&= 255.763\\ \\mathrm{kN/m}  \\\\[10pt]\n",
       "\\\\[10pt]\n",
       "T_{3} &= \\left( \\frac{ h_{3} }{ 2 } + \\frac{ h_{4} }{ 2 } \\right) \\cdot \\mathrm{Pe} + \\left( \\frac{ h_{3} }{ 2 } + \\frac{ h_{4} }{ 2 } \\right) \\cdot P_{s} \\\\&= \\left( \\frac{ 3.850\\ \\mathrm{m} }{ 2 } + \\frac{ 2.800\\ \\mathrm{m} }{ 2 } \\right) \\cdot 72.441\\ \\mathrm{kPa} + \\left( \\frac{ 3.850\\ \\mathrm{m} }{ 2 } + \\frac{ 2.800\\ \\mathrm{m} }{ 2 } \\right) \\cdot 5.654\\ \\mathrm{kPa} \\\\&= 259.668\\ \\mathrm{kN/m}  \\\\[10pt]\n",
       "\\\\[10pt]\n",
       "T_{4} &= \\left( \\frac{ h_{4} }{ 2 } + \\frac{ h_{5} }{ 2 } \\right) \\cdot \\mathrm{Pe} + \\left( \\frac{ h_{4} }{ 2 } + \\frac{ h_{5} }{ 2 } \\right) \\cdot P_{s} \\\\&= \\left( \\frac{ 2.800\\ \\mathrm{m} }{ 2 } + \\frac{ 3.300\\ \\mathrm{m} }{ 2 } \\right) \\cdot 72.441\\ \\mathrm{kPa} + \\left( \\frac{ 2.800\\ \\mathrm{m} }{ 2 } + \\frac{ 3.300\\ \\mathrm{m} }{ 2 } \\right) \\cdot 5.654\\ \\mathrm{kPa} \\\\&= 238.191\\ \\mathrm{kN/m}  \\\\[10pt]\n",
       "\\\\[10pt]\n",
       "T_{5} &= \\left( \\frac{ h_{5} }{ 2 } + 23 \\cdot \\frac{ h_{6} }{ 48 } \\right) \\cdot \\mathrm{Pe} + \\left( \\frac{ h_{5} }{ 2 } + \\frac{ h_{6} }{ 2 } \\right) \\cdot P_{s} \\\\&= \\left( \\frac{ 3.300\\ \\mathrm{m} }{ 2 } + 23 \\cdot \\frac{ 2.750\\ \\mathrm{m} }{ 48 } \\right) \\cdot 72.441\\ \\mathrm{kPa} + \\left( \\frac{ 3.300\\ \\mathrm{m} }{ 2 } + \\frac{ 2.750\\ \\mathrm{m} }{ 2 } \\right) \\cdot 5.654\\ \\mathrm{kPa} \\\\&= 232.089\\ \\mathrm{kN/m}  \\\\[10pt]\n",
       "\\end{aligned}\n",
       "\\]"
      ],
      "text/plain": [
       "<IPython.core.display.Latex object>"
      ]
     },
     "metadata": {},
     "output_type": "display_data"
    }
   ],
   "source": [
    "%%render\n",
    "T_1= (2*h_1/3+h_2/2)*Pe+(h_1+h_2/2)*P_s\n",
    "\n",
    "T_2= (h_2/2+h_3/2)*Pe+(h_2/2+h_3/2)*P_s\n",
    "T_3= (h_3/2+h_4/2)*Pe+(h_3/2+h_4/2)*P_s\n",
    "T_4= (h_4/2+h_5/2)*Pe+(h_4/2+h_5/2)*P_s\n",
    "\n",
    "T_5= (h_5/2+23*h_6/48)*Pe+(h_5/2+h_6/2)*P_s"
   ]
  },
  {
   "cell_type": "markdown",
   "metadata": {},
   "source": [
    "## Carga de trabajo del anclaje:"
   ]
  },
  {
   "cell_type": "markdown",
   "metadata": {},
   "source": [
    "$$Pw_{i}=\\frac{T_{i}\\cdot S_{H}}{\\cos\\xi}$$"
   ]
  },
  {
   "cell_type": "markdown",
   "metadata": {},
   "source": [
    "Donde:\\\n",
    " $S_H$   : Ancho tributario de la Carga de Trabajo del Anclaje\\\n",
    " $\\xi$   : Ángulo de inclinación del anclaje"
   ]
  },
  {
   "cell_type": "code",
   "execution_count": 17,
   "metadata": {},
   "outputs": [
    {
     "data": {
      "text/latex": [
       "\\[\n",
       "\\begin{aligned}\n",
       "S_{H} &= 3.500\\ \\mathrm{m} \\; \n",
       " &\\xi &= 15 ^\\circ \\;\n",
       "\\end{aligned}\n",
       "\\]"
      ],
      "text/plain": [
       "<IPython.core.display.Latex object>"
      ]
     },
     "metadata": {},
     "output_type": "display_data"
    }
   ],
   "source": [
    "%%render\n",
    "# Parameters\n",
    "S_H=3.5*m\n",
    "xi=15*degree\n"
   ]
  },
  {
   "cell_type": "code",
   "execution_count": 18,
   "metadata": {},
   "outputs": [],
   "source": [
    "xi=xi/degree*pi/180"
   ]
  },
  {
   "cell_type": "code",
   "execution_count": 19,
   "metadata": {},
   "outputs": [
    {
     "data": {
      "text/latex": [
       "\\[\n",
       "\\begin{aligned}\n",
       "\\mathrm{Pw}_{1} &= \\frac{ T_{1} \\cdot S_{H} }{ \\cos \\left( \\xi \\right) }  = \\frac{ 213.326\\ \\mathrm{kN/m} \\cdot 3.500\\ \\mathrm{m} }{ \\cos \\left( 0.262 \\right) } &= 78821.901\\ \\mathrm{kgf}  \n",
       "\\\\[10pt]\n",
       "\\mathrm{Pw}_{2} &= \\frac{ T_{2} \\cdot S_{H} }{ \\cos \\left( \\xi \\right) }  = \\frac{ 255.763\\ \\mathrm{kN/m} \\cdot 3.500\\ \\mathrm{m} }{ \\cos \\left( 0.262 \\right) } &= 94501.968\\ \\mathrm{kgf}  \n",
       "\\\\[10pt]\n",
       "\\mathrm{Pw}_{3} &= \\frac{ T_{3} \\cdot S_{H} }{ \\cos \\left( \\xi \\right) }  = \\frac{ 259.668\\ \\mathrm{kN/m} \\cdot 3.500\\ \\mathrm{m} }{ \\cos \\left( 0.262 \\right) } &= 95944.746\\ \\mathrm{kgf}  \n",
       "\\\\[10pt]\n",
       "\\mathrm{Pw}_{4} &= \\frac{ T_{4} \\cdot S_{H} }{ \\cos \\left( \\xi \\right) }  = \\frac{ 238.191\\ \\mathrm{kN/m} \\cdot 3.500\\ \\mathrm{m} }{ \\cos \\left( 0.262 \\right) } &= 88009.466\\ \\mathrm{kgf}  \n",
       "\\\\[10pt]\n",
       "\\mathrm{Pw}_{5} &= \\frac{ T_{5} \\cdot S_{H} }{ \\cos \\left( \\xi \\right) }  = \\frac{ 232.089\\ \\mathrm{kN/m} \\cdot 3.500\\ \\mathrm{m} }{ \\cos \\left( 0.262 \\right) } &= 85754.588\\ \\mathrm{kgf}  \n",
       "\\end{aligned}\n",
       "\\]"
      ],
      "text/plain": [
       "<IPython.core.display.Latex object>"
      ]
     },
     "metadata": {},
     "output_type": "display_data"
    }
   ],
   "source": [
    "%%render\n",
    "Pw_1= (T_1*S_H)/cos(xi)\n",
    "Pw_2= (T_2*S_H)/cos(xi)\n",
    "Pw_3= (T_3*S_H)/cos(xi)\n",
    "Pw_4= (T_4*S_H)/cos(xi)\n",
    "Pw_5= (T_5*S_H)/cos(xi)"
   ]
  },
  {
   "cell_type": "markdown",
   "metadata": {},
   "source": [
    "# Área del acero de Refuerzo:\n",
    "El número de torones de $\\phi$ 0.6\", sera calculada de la siguiente manera:"
   ]
  },
  {
   "cell_type": "markdown",
   "metadata": {},
   "source": [
    "$$Pw_{i}=\\frac{0.90\\cdot f_{y}\\cdot As_{i}}{\\eta}$$"
   ]
  },
  {
   "cell_type": "markdown",
   "metadata": {},
   "source": [
    "$f_y=0.9\\cdot f_{pu}$: Esfuerzo de fluencia del acero"
   ]
  },
  {
   "cell_type": "markdown",
   "metadata": {},
   "source": [
    "$As=as_{0.6''}\\cdot(n)$: Área del acero de refuerzo; donde \"n\" es el número de torones y $as_{0.6''}$ el área de los torones de 0.6''"
   ]
  },
  {
   "cell_type": "markdown",
   "metadata": {},
   "source": [
    "$Pw_i$: Carga de trabajo del anclaje"
   ]
  },
  {
   "cell_type": "markdown",
   "metadata": {},
   "source": [
    "$\\eta$: Coeficiente de seguridad, 1.50 para anclajes provisionales o 1.75 para anclajes permanentes"
   ]
  },
  {
   "cell_type": "markdown",
   "metadata": {},
   "source": [
    "Definimos:"
   ]
  },
  {
   "cell_type": "code",
   "execution_count": 20,
   "metadata": {},
   "outputs": [
    {
     "data": {
      "text/latex": [
       "\\[\n",
       "\\begin{aligned}\n",
       "\\eta &= 1.500 \\; \\;\\textrm{(Provisionales)}\n",
       "\\\\[10pt]\n",
       "a_{s} &= 140.000\\ \\mathrm{mm}^{2} \\; \\;\\textrm{(Acero de 0.6'')}\n",
       "\\\\[10pt]\n",
       "f_{pu} &= 1.853\\ \\mathrm{GPa} \\; \n",
       "\\\\[10pt]\n",
       "f_{y} &= 1.668\\ \\mathrm{GPa} \\; \n",
       "\\end{aligned}\n",
       "\\]"
      ],
      "text/plain": [
       "<IPython.core.display.Latex object>"
      ]
     },
     "metadata": {},
     "output_type": "display_data"
    }
   ],
   "source": [
    "%%render\n",
    "\n",
    "eta=1.50 #Provisionales\n",
    "a_s=0.00014*m**2 #Acero de 0.6''\n",
    "f_pu=0.189*tonf/mm**2\n",
    "f_y=0.9*f_pu"
   ]
  },
  {
   "cell_type": "code",
   "execution_count": 21,
   "metadata": {},
   "outputs": [
    {
     "data": {
      "text/latex": [
       "\\[\n",
       "\\begin{aligned}\n",
       "\\mathrm{As}_{1} &= \\frac{ \\mathrm{Pw}_{1} \\cdot \\eta }{ 0.9 \\cdot f_{y} }  = \\frac{ 78821.901\\ \\mathrm{kgf} \\cdot 1.500 }{ 0.9 \\cdot 1.668\\ \\mathrm{GPa} } &= 772.309\\ \\mathrm{mm}^{2}  \n",
       "\\\\[10pt]\n",
       "\\mathrm{As}_{2} &= \\frac{ \\mathrm{Pw}_{2} \\cdot \\eta }{ 0.9 \\cdot f_{y} }  = \\frac{ 94501.968\\ \\mathrm{kgf} \\cdot 1.500 }{ 0.9 \\cdot 1.668\\ \\mathrm{GPa} } &= 925.945\\ \\mathrm{mm}^{2}  \n",
       "\\\\[10pt]\n",
       "\\mathrm{As}_{3} &= \\frac{ \\mathrm{Pw}_{3} \\cdot \\eta }{ 0.9 \\cdot f_{y} }  = \\frac{ 95944.746\\ \\mathrm{kgf} \\cdot 1.500 }{ 0.9 \\cdot 1.668\\ \\mathrm{GPa} } &= 940.082\\ \\mathrm{mm}^{2}  \n",
       "\\\\[10pt]\n",
       "\\mathrm{As}_{4} &= \\frac{ \\mathrm{Pw}_{4} \\cdot \\eta }{ 0.9 \\cdot f_{y} }  = \\frac{ 88009.466\\ \\mathrm{kgf} \\cdot 1.500 }{ 0.9 \\cdot 1.668\\ \\mathrm{GPa} } &= 862.331\\ \\mathrm{mm}^{2}  \n",
       "\\\\[10pt]\n",
       "\\mathrm{As}_{5} &= \\frac{ \\mathrm{Pw}_{5} \\cdot \\eta }{ 0.9 \\cdot f_{y} }  = \\frac{ 85754.588\\ \\mathrm{kgf} \\cdot 1.500 }{ 0.9 \\cdot 1.668\\ \\mathrm{GPa} } &= 840.237\\ \\mathrm{mm}^{2}  \n",
       "\\end{aligned}\n",
       "\\]"
      ],
      "text/plain": [
       "<IPython.core.display.Latex object>"
      ]
     },
     "metadata": {},
     "output_type": "display_data"
    }
   ],
   "source": [
    "%%render\n",
    "As_1= (Pw_1*eta)/(0.9*(f_y))\n",
    "As_2= (Pw_2*eta)/(0.9*(f_y))\n",
    "As_3= (Pw_3*eta)/(0.9*(f_y))\n",
    "As_4= (Pw_4*eta)/(0.9*(f_y))\n",
    "As_5= (Pw_5*eta)/(0.9*(f_y))"
   ]
  },
  {
   "cell_type": "markdown",
   "metadata": {},
   "source": [
    "Con dichas áreas es posible calcula un número teórico de torones de 6''"
   ]
  },
  {
   "cell_type": "code",
   "execution_count": 22,
   "metadata": {},
   "outputs": [
    {
     "data": {
      "text/latex": [
       "\\[\n",
       "\\begin{aligned}\n",
       "n_{1} &= \\frac{ \\mathrm{As}_{1} }{ a_{s} }  = \\frac{ 772.309\\ \\mathrm{mm}^{2} }{ 140.000\\ \\mathrm{mm}^{2} } &= 5.516  \n",
       "\\\\[10pt]\n",
       "n_{2} &= \\frac{ \\mathrm{As}_{2} }{ a_{s} }  = \\frac{ 925.945\\ \\mathrm{mm}^{2} }{ 140.000\\ \\mathrm{mm}^{2} } &= 6.614  \n",
       "\\\\[10pt]\n",
       "n_{3} &= \\frac{ \\mathrm{As}_{3} }{ a_{s} }  = \\frac{ 940.082\\ \\mathrm{mm}^{2} }{ 140.000\\ \\mathrm{mm}^{2} } &= 6.715  \n",
       "\\\\[10pt]\n",
       "n_{4} &= \\frac{ \\mathrm{As}_{4} }{ a_{s} }  = \\frac{ 862.331\\ \\mathrm{mm}^{2} }{ 140.000\\ \\mathrm{mm}^{2} } &= 6.160  \n",
       "\\\\[10pt]\n",
       "n_{5} &= \\frac{ \\mathrm{As}_{5} }{ a_{s} }  = \\frac{ 840.237\\ \\mathrm{mm}^{2} }{ 140.000\\ \\mathrm{mm}^{2} } &= 6.002  \n",
       "\\end{aligned}\n",
       "\\]"
      ],
      "text/plain": [
       "<IPython.core.display.Latex object>"
      ]
     },
     "metadata": {},
     "output_type": "display_data"
    }
   ],
   "source": [
    "%%render\n",
    "n_1= As_1 /a_s\n",
    "n_2= As_2 /a_s\n",
    "n_3= As_3 /a_s\n",
    "n_4= As_4 /a_s\n",
    "n_5= As_5 /a_s"
   ]
  },
  {
   "cell_type": "markdown",
   "metadata": {},
   "source": [
    "Queda defino el número de torones:\n",
    "$$n_1=\\text{6 torones de 0.6''}$$\n",
    "$$n_2=\\text{7 torones de 0.6''}$$\n",
    "$$n_3=\\text{7 torones de 0.6''}$$\n",
    "$$n_4=\\text{6 torones de 0.6''}$$\n",
    "$$n_5=\\text{6 torones de 0.6''}$$"
   ]
  },
  {
   "cell_type": "markdown",
   "metadata": {},
   "source": [
    "# Diseño de la Longitud del Bulbo:"
   ]
  },
  {
   "cell_type": "markdown",
   "metadata": {},
   "source": [
    "$$L_b=\\frac{Pw_i}{\\pi\\cdot D\\cdot \\tau_w}$$"
   ]
  },
  {
   "cell_type": "markdown",
   "metadata": {},
   "source": [
    "$L_b$: Longitud del bulbo del anclaje\\\n",
    "$Pw_i$: Carga de trabajo del anclaje\\\n",
    "$D$: Diámetro de performación\\\n",
    "$\\tau_w$: Capacidad de adherencia del trabajo en el contacto suelo - material cementante\\\n",
    "$$\\tau_w = \\frac{\\tau_{ult}}{FS}$$\n",
    "$$FS\\ge 2$$\n",
    "$\\tau_{u}$: Esfuerzo de adherencia promedio último para suelos No cohesivos\\\n",
    "$\\tau_{u}=0.28-1.38\\text{ MPa} \\text{ para Arena Gravosa Densa (según PTI DC35.1-14)}$\n"
   ]
  },
  {
   "cell_type": "code",
   "execution_count": 23,
   "metadata": {},
   "outputs": [
    {
     "data": {
      "text/latex": [
       "\\[\n",
       "\\begin{aligned}\n",
       "\\tau &= 690.000\\ \\mathrm{kPa} \\; \n",
       " &D &= 11.400\\ \\mathrm{cm} \\; \n",
       " &\\mathrm{FS} &= 2 \\; \n",
       "\\\\[10pt]\n",
       "\\end{aligned}\n",
       "\\]"
      ],
      "text/plain": [
       "<IPython.core.display.Latex object>"
      ]
     },
     "metadata": {},
     "output_type": "display_data"
    }
   ],
   "source": [
    "%%render\n",
    "# Parameters\n",
    "tau=0.69*MPa\n",
    "D=11.4*cm\n",
    "FS=2"
   ]
  },
  {
   "cell_type": "code",
   "execution_count": 24,
   "metadata": {},
   "outputs": [
    {
     "data": {
      "text/latex": [
       "\\[\n",
       "\\begin{aligned}\n",
       "L_{b_{1}} &= \\frac{ \\mathrm{Pw}_{1} \\cdot \\mathrm{FS} }{ \\pi \\cdot D \\cdot \\tau }  = \\frac{ 78821.901\\ \\mathrm{kgf} \\cdot 2 }{ 3.142 \\cdot 11.400\\ \\mathrm{cm} \\cdot 690.000\\ \\mathrm{kPa} } &= 6.256\\ \\mathrm{m}  \n",
       "\\\\[10pt]\n",
       "L_{b_{2}} &= \\frac{ \\mathrm{Pw}_{2} \\cdot \\mathrm{FS} }{ \\pi \\cdot D \\cdot \\tau }  = \\frac{ 94501.968\\ \\mathrm{kgf} \\cdot 2 }{ 3.142 \\cdot 11.400\\ \\mathrm{cm} \\cdot 690.000\\ \\mathrm{kPa} } &= 7.500\\ \\mathrm{m}  \n",
       "\\\\[10pt]\n",
       "L_{b_{3}} &= \\frac{ \\mathrm{Pw}_{3} \\cdot \\mathrm{FS} }{ \\pi \\cdot D \\cdot \\tau }  = \\frac{ 95944.746\\ \\mathrm{kgf} \\cdot 2 }{ 3.142 \\cdot 11.400\\ \\mathrm{cm} \\cdot 690.000\\ \\mathrm{kPa} } &= 7.615\\ \\mathrm{m}  \n",
       "\\\\[10pt]\n",
       "L_{b_{4}} &= \\frac{ \\mathrm{Pw}_{4} \\cdot \\mathrm{FS} }{ \\pi \\cdot D \\cdot \\tau }  = \\frac{ 88009.466\\ \\mathrm{kgf} \\cdot 2 }{ 3.142 \\cdot 11.400\\ \\mathrm{cm} \\cdot 690.000\\ \\mathrm{kPa} } &= 6.985\\ \\mathrm{m}  \n",
       "\\\\[10pt]\n",
       "L_{b_{5}} &= \\frac{ \\mathrm{Pw}_{5} \\cdot \\mathrm{FS} }{ \\pi \\cdot D \\cdot \\tau }  = \\frac{ 85754.588\\ \\mathrm{kgf} \\cdot 2 }{ 3.142 \\cdot 11.400\\ \\mathrm{cm} \\cdot 690.000\\ \\mathrm{kPa} } &= 6.806\\ \\mathrm{m}  \n",
       "\\end{aligned}\n",
       "\\]"
      ],
      "text/plain": [
       "<IPython.core.display.Latex object>"
      ]
     },
     "metadata": {},
     "output_type": "display_data"
    }
   ],
   "source": [
    "%%render\n",
    "L_b_1= (Pw_1*FS)/(pi*D*tau)\n",
    "L_b_2= (Pw_2*FS)/(pi*D*tau)\n",
    "L_b_3= (Pw_3*FS)/(pi*D*tau)\n",
    "L_b_4= (Pw_4*FS)/(pi*D*tau)\n",
    "L_b_5= (Pw_5*FS)/(pi*D*tau)"
   ]
  },
  {
   "cell_type": "code",
   "execution_count": 25,
   "metadata": {},
   "outputs": [],
   "source": [
    "# Generar variables dinámicas h_i+1 que sean igual a h[i]\n",
    "for i in range(len(h)):\n",
    "    exec(f'T_{i+1} = h[i]')"
   ]
  },
  {
   "cell_type": "code",
   "execution_count": 26,
   "metadata": {},
   "outputs": [],
   "source": [
    "import pandas as pd\n",
    "\n",
    "# Crear un DataFrame de ejemplo\n",
    "data = {\n",
    "    'Nombre': ['Alice', 'Bob', 'Charlie'],\n",
    "    'Edad': [25, 30, 35],\n",
    "    'Ciudad': ['Madrid', 'Barcelona', 'Valencia']\n",
    "}\n",
    "df = pd.DataFrame(data)\n",
    "\n",
    "# Usar handcalcs para mostrar el DataFrame\n"
   ]
  },
  {
   "cell_type": "code",
   "execution_count": 31,
   "metadata": {
    "tags": [
     "exclude"
    ]
   },
   "outputs": [
    {
     "name": "stderr",
     "output_type": "stream",
     "text": [
      "[NbConvertApp] Converting notebook Anclajes.ipynb to pdf\n",
      "[NbConvertApp] Writing 41949 bytes to Anclajes.pdf\n"
     ]
    }
   ],
   "source": [
    "!jupyter nbconvert --to pdf --config config.py --LatexPreprocessor.title \"Cálculo de torones en muros anclados\" --LatexPreprocessor.date \"\" --LatexPreprocessor.author_names \"Ing. Claudia Villanueva\" --LatexPreprocessor.author_names \"HVS Ingenieros\" Anclajes.ipynb\n",
    "    "
   ]
  }
 ],
 "metadata": {
  "kernelspec": {
   "display_name": "Python 3",
   "language": "python",
   "name": "python3"
  },
  "language_info": {
   "codemirror_mode": {
    "name": "ipython",
    "version": 3
   },
   "file_extension": ".py",
   "mimetype": "text/x-python",
   "name": "python",
   "nbconvert_exporter": "python",
   "pygments_lexer": "ipython3",
   "version": "3.12.6"
  }
 },
 "nbformat": 4,
 "nbformat_minor": 2
}
